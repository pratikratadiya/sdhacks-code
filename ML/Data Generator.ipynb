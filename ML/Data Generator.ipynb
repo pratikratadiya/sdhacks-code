{
 "cells": [
  {
   "cell_type": "code",
   "execution_count": 11,
   "metadata": {},
   "outputs": [],
   "source": [
    "import pandas as pd\n",
    "import itertools\n",
    "from itertools import combinations"
   ]
  },
  {
   "cell_type": "code",
   "execution_count": 2,
   "metadata": {},
   "outputs": [],
   "source": [
    "data_grid = [\n",
    "    [\"Medical\",\"Social Media\",\"Real Estate\",\"Humanities\",\"Job Recruitment\",\"Public Affairs\"],\n",
    "    [\"B2B\",\"B2C\"],\n",
    "    [\"Yes\",\"No\"],\n",
    "    [\"Multinational\",\"Single\"],\n",
    "    [\"Yes\",\"No\"],\n",
    "    [\"Yes\",\"No\"]\n",
    "]"
   ]
  },
  {
   "cell_type": "code",
   "execution_count": 4,
   "metadata": {},
   "outputs": [],
   "source": [
    "possible_data = list(itertools.product(*data_grid))"
   ]
  },
  {
   "cell_type": "code",
   "execution_count": 6,
   "metadata": {},
   "outputs": [],
   "source": [
    "input_data = pd.DataFrame(possible_data,columns=[\"Company Domain\",\"Company Type\",\"Conducts research\",\n",
    "                                                \"Company scope\",\"Accepts user input\",\"Publicly listed\"])"
   ]
  },
  {
   "cell_type": "code",
   "execution_count": 8,
   "metadata": {},
   "outputs": [
    {
     "data": {
      "text/html": [
       "<div>\n",
       "<style scoped>\n",
       "    .dataframe tbody tr th:only-of-type {\n",
       "        vertical-align: middle;\n",
       "    }\n",
       "\n",
       "    .dataframe tbody tr th {\n",
       "        vertical-align: top;\n",
       "    }\n",
       "\n",
       "    .dataframe thead th {\n",
       "        text-align: right;\n",
       "    }\n",
       "</style>\n",
       "<table border=\"1\" class=\"dataframe\">\n",
       "  <thead>\n",
       "    <tr style=\"text-align: right;\">\n",
       "      <th></th>\n",
       "      <th>Company Domain</th>\n",
       "      <th>Company Type</th>\n",
       "      <th>Conducts research</th>\n",
       "      <th>Company scope</th>\n",
       "      <th>Accepts user input</th>\n",
       "      <th>Publicly listed</th>\n",
       "    </tr>\n",
       "  </thead>\n",
       "  <tbody>\n",
       "    <tr>\n",
       "      <th>0</th>\n",
       "      <td>Medical</td>\n",
       "      <td>B2B</td>\n",
       "      <td>Yes</td>\n",
       "      <td>Multinational</td>\n",
       "      <td>Yes</td>\n",
       "      <td>Yes</td>\n",
       "    </tr>\n",
       "    <tr>\n",
       "      <th>1</th>\n",
       "      <td>Medical</td>\n",
       "      <td>B2B</td>\n",
       "      <td>Yes</td>\n",
       "      <td>Multinational</td>\n",
       "      <td>Yes</td>\n",
       "      <td>No</td>\n",
       "    </tr>\n",
       "    <tr>\n",
       "      <th>2</th>\n",
       "      <td>Medical</td>\n",
       "      <td>B2B</td>\n",
       "      <td>Yes</td>\n",
       "      <td>Multinational</td>\n",
       "      <td>No</td>\n",
       "      <td>Yes</td>\n",
       "    </tr>\n",
       "    <tr>\n",
       "      <th>3</th>\n",
       "      <td>Medical</td>\n",
       "      <td>B2B</td>\n",
       "      <td>Yes</td>\n",
       "      <td>Multinational</td>\n",
       "      <td>No</td>\n",
       "      <td>No</td>\n",
       "    </tr>\n",
       "    <tr>\n",
       "      <th>4</th>\n",
       "      <td>Medical</td>\n",
       "      <td>B2B</td>\n",
       "      <td>Yes</td>\n",
       "      <td>Single</td>\n",
       "      <td>Yes</td>\n",
       "      <td>Yes</td>\n",
       "    </tr>\n",
       "  </tbody>\n",
       "</table>\n",
       "</div>"
      ],
      "text/plain": [
       "  Company Domain Company Type Conducts research  Company scope  \\\n",
       "0        Medical          B2B               Yes  Multinational   \n",
       "1        Medical          B2B               Yes  Multinational   \n",
       "2        Medical          B2B               Yes  Multinational   \n",
       "3        Medical          B2B               Yes  Multinational   \n",
       "4        Medical          B2B               Yes         Single   \n",
       "\n",
       "  Accepts user input Publicly listed  \n",
       "0                Yes             Yes  \n",
       "1                Yes              No  \n",
       "2                 No             Yes  \n",
       "3                 No              No  \n",
       "4                Yes             Yes  "
      ]
     },
     "execution_count": 8,
     "metadata": {},
     "output_type": "execute_result"
    }
   ],
   "source": [
    "input_data.head()"
   ]
  },
  {
   "cell_type": "code",
   "execution_count": 9,
   "metadata": {},
   "outputs": [],
   "source": [
    "input_data.to_csv(\"company_types.csv\",index=None)"
   ]
  },
  {
   "cell_type": "code",
   "execution_count": 12,
   "metadata": {},
   "outputs": [],
   "source": [
    "diversity_aspects = [\n",
    "    \"DEI cell\",\n",
    "    \"Multi-language support\",\n",
    "    \"Uses input data from multiple communities\",\n",
    "    \"Representation in board members\",\n",
    "    \"Moderation against targeted hate\",\n",
    "]\n",
    "\n",
    "diversity_aspects = [\"Inputs\",\"Leadership\",\"Raw data\"]\n",
    "D1: Inputs, Leadership, Raw data\n",
    "D2: Inputs, Leadership\n",
    "D3: Inputs, Raw data\n",
    "D4: Leadership, Raw data\n",
    "D5: Inputs\n",
    "D6: Leadership\n",
    "D7: Raw data\n"
   ]
  },
  {
   "cell_type": "code",
   "execution_count": 13,
   "metadata": {},
   "outputs": [],
   "source": [
    "accessibility_aspects = [\n",
    "    \"Wheelchair accessible entrances\",\n",
    "    \"Screen readers and other visual aids\",\n",
    "    \"Due compensation and facilities\",\n",
    "    \"Accommodations for specially abled people\"\n",
    "]\n",
    "\n",
    "accessibility_aspects = [\"Physical\",\"Inputs\"]\n",
    "A1: Physical, Inputs\n",
    "A2: Inputs\n",
    "A3: Physical"
   ]
  },
  {
   "cell_type": "code",
   "execution_count": 14,
   "metadata": {},
   "outputs": [],
   "source": [
    "def generate_possibilities(input_list):\n",
    "    return sum([list(map(list, combinations(input_list, i))) for i in range(len(input_list) + 1)], [])"
   ]
  },
  {
   "cell_type": "code",
   "execution_count": 18,
   "metadata": {},
   "outputs": [
    {
     "data": {
      "text/html": [
       "<div>\n",
       "<style scoped>\n",
       "    .dataframe tbody tr th:only-of-type {\n",
       "        vertical-align: middle;\n",
       "    }\n",
       "\n",
       "    .dataframe tbody tr th {\n",
       "        vertical-align: top;\n",
       "    }\n",
       "\n",
       "    .dataframe thead th {\n",
       "        text-align: right;\n",
       "    }\n",
       "</style>\n",
       "<table border=\"1\" class=\"dataframe\">\n",
       "  <thead>\n",
       "    <tr style=\"text-align: right;\">\n",
       "      <th></th>\n",
       "      <th>Domain</th>\n",
       "      <th>Customer</th>\n",
       "      <th>Research</th>\n",
       "      <th>Tech</th>\n",
       "      <th>Input</th>\n",
       "      <th>Listed</th>\n",
       "      <th>Diversity</th>\n",
       "      <th>Accessibility</th>\n",
       "    </tr>\n",
       "  </thead>\n",
       "  <tbody>\n",
       "    <tr>\n",
       "      <th>0</th>\n",
       "      <td>Medical</td>\n",
       "      <td>0</td>\n",
       "      <td>1</td>\n",
       "      <td>1</td>\n",
       "      <td>1</td>\n",
       "      <td>1</td>\n",
       "      <td>4</td>\n",
       "      <td>2</td>\n",
       "    </tr>\n",
       "    <tr>\n",
       "      <th>1</th>\n",
       "      <td>Medical</td>\n",
       "      <td>0</td>\n",
       "      <td>1</td>\n",
       "      <td>1</td>\n",
       "      <td>1</td>\n",
       "      <td>0</td>\n",
       "      <td>7</td>\n",
       "      <td>2</td>\n",
       "    </tr>\n",
       "    <tr>\n",
       "      <th>2</th>\n",
       "      <td>Medical</td>\n",
       "      <td>0</td>\n",
       "      <td>1</td>\n",
       "      <td>1</td>\n",
       "      <td>0</td>\n",
       "      <td>1</td>\n",
       "      <td>4</td>\n",
       "      <td>2</td>\n",
       "    </tr>\n",
       "    <tr>\n",
       "      <th>3</th>\n",
       "      <td>Medical</td>\n",
       "      <td>0</td>\n",
       "      <td>1</td>\n",
       "      <td>1</td>\n",
       "      <td>0</td>\n",
       "      <td>0</td>\n",
       "      <td>7</td>\n",
       "      <td>2</td>\n",
       "    </tr>\n",
       "    <tr>\n",
       "      <th>4</th>\n",
       "      <td>Medical</td>\n",
       "      <td>0</td>\n",
       "      <td>1</td>\n",
       "      <td>0</td>\n",
       "      <td>1</td>\n",
       "      <td>1</td>\n",
       "      <td>4</td>\n",
       "      <td>2</td>\n",
       "    </tr>\n",
       "  </tbody>\n",
       "</table>\n",
       "</div>"
      ],
      "text/plain": [
       "    Domain  Customer  Research  Tech  Input  Listed  Diversity  Accessibility\n",
       "0  Medical         0         1     1      1       1          4              2\n",
       "1  Medical         0         1     1      1       0          7              2\n",
       "2  Medical         0         1     1      0       1          4              2\n",
       "3  Medical         0         1     1      0       0          7              2\n",
       "4  Medical         0         1     0      1       1          4              2"
      ]
     },
     "execution_count": 18,
     "metadata": {},
     "output_type": "execute_result"
    }
   ],
   "source": [
    "df = pd.read_csv(\"company_types.csv\")\n",
    "df.head()"
   ]
  },
  {
   "cell_type": "code",
   "execution_count": 21,
   "metadata": {},
   "outputs": [],
   "source": [
    "domains = df.Domain.unique()\n",
    "domain_dict = dict(zip(domains, range(1,len(domains)+1)))"
   ]
  },
  {
   "cell_type": "code",
   "execution_count": 22,
   "metadata": {},
   "outputs": [
    {
     "data": {
      "text/plain": [
       "{'Medical': 1,\n",
       " 'Social Media': 2,\n",
       " 'Real Estate': 3,\n",
       " 'Humanities': 4,\n",
       " 'Job Recruitment': 5,\n",
       " 'Public Affairs': 6,\n",
       " 'Education': 7}"
      ]
     },
     "execution_count": 22,
     "metadata": {},
     "output_type": "execute_result"
    }
   ],
   "source": [
    "domain_dict"
   ]
  },
  {
   "cell_type": "code",
   "execution_count": 23,
   "metadata": {},
   "outputs": [],
   "source": [
    "df[\"Domain\"] = df[\"Domain\"].replace(domain_dict)"
   ]
  },
  {
   "cell_type": "code",
   "execution_count": 28,
   "metadata": {},
   "outputs": [],
   "source": [
    "df_di = df.drop([\"Accessibility\"],axis=1)\n",
    "df_di.to_csv(\"di_feature_data.csv\",index=None)"
   ]
  },
  {
   "cell_type": "code",
   "execution_count": 29,
   "metadata": {},
   "outputs": [],
   "source": [
    "df_a = df.drop([\"Diversity\"],axis=1)\n",
    "df_a.to_csv(\"acs_feature_data.csv\",index=None)"
   ]
  },
  {
   "cell_type": "code",
   "execution_count": null,
   "metadata": {},
   "outputs": [],
   "source": []
  }
 ],
 "metadata": {
  "kernelspec": {
   "display_name": "Python 3",
   "language": "python",
   "name": "python3"
  },
  "language_info": {
   "codemirror_mode": {
    "name": "ipython",
    "version": 3
   },
   "file_extension": ".py",
   "mimetype": "text/x-python",
   "name": "python",
   "nbconvert_exporter": "python",
   "pygments_lexer": "ipython3",
   "version": "3.8.3"
  }
 },
 "nbformat": 4,
 "nbformat_minor": 4
}
